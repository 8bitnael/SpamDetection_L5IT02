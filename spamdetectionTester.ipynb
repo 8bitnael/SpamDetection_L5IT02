import pandas as pd
from sklearn.model_selection import train_test_split
from sklearn.feature_extraction.text import CountVectorizer
from sklearn.naive_bayes import MultinomialNB

# Caricamento del dataset
data = pd.read_csv("spamDetect.csv")

# Preprocessing del dataset
X = data['Message']
y = data['Category']
vectorizer = CountVectorizer()
X_vectorized = vectorizer.fit_transform(X)

# Divisione del dataset in training e test set
X_train, X_test, y_train, y_test = train_test_split(X_vectorized, y, test_size=0.2, random_state=42)

# Addestramento del modello
clf = MultinomialNB()
clf.fit(X_train, y_train)

# Messaggio fittizio da verificare
new_message = "🎉 Congratulazioni! Hai vinto un premio straordinario! Clicca qui per riscattare il tuo premio esclusivo! Offerta limitata, non perdere questa opportunità! 🎁🌟"

# Preprocessamento del nuovo messaggio
new_message_vectorized = vectorizer.transform([new_message])

# Previsto il tipo di messaggio (spam o ham)
prediction = clf.predict(new_message_vectorized)

# Stampa della previsione
if prediction[0] == 'ham':
    print("Il messaggio è classificato come non spam (ham).")
else:
    print("Il messaggio è classificato come spam.")
